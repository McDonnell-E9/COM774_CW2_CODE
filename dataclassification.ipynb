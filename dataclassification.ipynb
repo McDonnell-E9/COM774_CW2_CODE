{
 "cells": [
  {
   "cell_type": "code",
   "execution_count": null,
   "metadata": {},
   "outputs": [],
   "source": [
    "#Hello World!"
   ]
  },
  {
   "cell_type": "code",
   "execution_count": 7,
   "metadata": {},
   "outputs": [],
   "source": [
    "import os\n",
    "import glob\n",
    "import pandas as pd\n",
    "import numpy as np\n",
    "import matplotlib.pyplot as plt\n",
    "from sklearn.linear_model import LogisticRegression\n",
    "from sklearn.model_selection import train_test_split\n",
    "from sklearn.metrics import roc_auc_score\n",
    "from sklearn.metrics import roc_curve"
   ]
  },
  {
   "cell_type": "code",
   "execution_count": 13,
   "metadata": {},
   "outputs": [],
   "source": [
    "#This is the directory of the csv files\n",
    "path = \"har70plus\"\n",
    "files = os.listdir(path)\n",
    "\n",
    "#Merging csv files based on this tutorial: https://www.raredogmarketing.com/resources/combining-multiple-csv-files-into-one-file-using-python-step-by-step-guide\n",
    "csv_files = [f for f in files if f.endswith('.csv')]\n",
    "df_list = []\n",
    "\n",
    "for csv in csv_files:\n",
    "    filepath = os.path.join(path, csv)\n",
    "    df = pd.read_csv(filepath)\n",
    "    df_list.append(df)\n",
    "    \n",
    "# Concatenate all data into one DataFrame\n",
    "big_df = pd.concat(df_list, ignore_index=True)\n",
    "# Save the final result to a new CSV file\n",
    "big_df.to_csv(os.path.join(path, 'combined_file.csv'), index=False)\n",
    "\n",
    "#df_append.to_csv(r\"C:\\Users\\Eoin McDonnell\\Documents\\Ulster University Folder\\COM774\\COM774_CW2_CODE\\har70plus\\Combined_Files.csv\")\n",
    "\n",
    "\n"
   ]
  },
  {
   "cell_type": "code",
   "execution_count": 9,
   "metadata": {},
   "outputs": [
    {
     "name": "stdout",
     "output_type": "stream",
     "text": [
      "(array([1, 3, 4, 5, 6, 7, 8]), array([1079312,   66058,    4560,    4978,  418055,  483452,  203182]))\n",
      "Train length 1807677\n",
      "Test length 451920\n"
     ]
    }
   ],
   "source": [
    "#Pick out the columns we want to use as inputs\n",
    "current_df = pd.read_csv(\"har70plus\\combined_file.csv\")\n",
    "\n",
    "X = current_df[['back_x', 'back_y', 'back_z', 'thigh_x', 'thigh_y', 'thigh_z']].values\n",
    "Y = current_df['label'].values\n",
    "## Now lets take a look at how many rows we have\n",
    "len(X)\n",
    "\n",
    "# And how many different types in each class, we should have 50 of each\n",
    "print(np.unique(Y, return_counts=True))\n",
    "\n",
    "#Split the data and keep 20% back for testing later\n",
    "X_train, X_test, Y_train, Y_test = train_test_split(X, Y, test_size=0.20)\n",
    "print(\"Train length\", len(X_train))\n",
    "print(\"Test length\", len(X_test))"
   ]
  },
  {
   "cell_type": "code",
   "execution_count": 10,
   "metadata": {},
   "outputs": [],
   "source": [
    "model = LogisticRegression(C=1/0.1, solver=\"liblinear\").fit(X_train, Y_train)"
   ]
  },
  {
   "cell_type": "code",
   "execution_count": 11,
   "metadata": {},
   "outputs": [
    {
     "name": "stdout",
     "output_type": "stream",
     "text": [
      "Accuracy 0.7611435652327846\n"
     ]
    }
   ],
   "source": [
    "testPredictions = model.predict(X_test)\n",
    "acc = np.average(testPredictions == Y_test)\n",
    "print(\"Accuracy\", acc)"
   ]
  },
  {
   "cell_type": "code",
   "execution_count": 12,
   "metadata": {},
   "outputs": [],
   "source": [
    "Y_scores = model.predict_proba(X_test)"
   ]
  },
  {
   "cell_type": "code",
   "execution_count": null,
   "metadata": {},
   "outputs": [
    {
     "ename": "TypeError",
     "evalue": "can only concatenate str (not \"numpy.int64\") to str",
     "output_type": "error",
     "traceback": [
      "\u001b[1;31m---------------------------------------------------------------------------\u001b[0m",
      "\u001b[1;31mTypeError\u001b[0m                                 Traceback (most recent call last)",
      "Cell \u001b[1;32mIn[15], line 12\u001b[0m\n\u001b[0;32m     10\u001b[0m \u001b[38;5;28;01mfor\u001b[39;00m idx, className \u001b[38;5;129;01min\u001b[39;00m \u001b[38;5;28menumerate\u001b[39m(current_df[\u001b[38;5;124m'\u001b[39m\u001b[38;5;124mlabel\u001b[39m\u001b[38;5;124m'\u001b[39m]\u001b[38;5;241m.\u001b[39munique()):\n\u001b[0;32m     11\u001b[0m \tfpr, tpr, thresholds \u001b[38;5;241m=\u001b[39m roc_curve(Y_test \u001b[38;5;241m==\u001b[39m className, Y_scores[:,idx])\n\u001b[1;32m---> 12\u001b[0m \tseriesName \u001b[38;5;241m=\u001b[39m \u001b[38;5;124;43m\"\u001b[39;49m\u001b[38;5;124;43mROC for \u001b[39;49m\u001b[38;5;124;43m\"\u001b[39;49m\u001b[43m \u001b[49m\u001b[38;5;241;43m+\u001b[39;49m\u001b[43m \u001b[49m\u001b[43mclassName\u001b[49m\n\u001b[0;32m     13\u001b[0m \t\u001b[38;5;66;03m# Plot the FPR and TPR achieved by our model\u001b[39;00m\n\u001b[0;32m     14\u001b[0m \tplt\u001b[38;5;241m.\u001b[39mplot(fpr, tpr, label\u001b[38;5;241m=\u001b[39mseriesName)\n",
      "\u001b[1;31mTypeError\u001b[0m: can only concatenate str (not \"numpy.int64\") to str"
     ]
    },
    {
     "data": {
      "image/png": "[encoded data removed]",
      "text/plain": [
       "<Figure size 600x400 with 1 Axes>"
      ]
     },
     "metadata": {},
     "output_type": "display_data"
    }
   ],
   "source": [
    "#Create a figure\n",
    "fig = plt.figure(figsize=(6, 4))\n",
    "#Set labels\n",
    "plt.xlabel('False Positive Rate')\n",
    "plt.ylabel('True Positive Rate')\n",
    "plt.title('ROC Curve')\n",
    "#Plot the 50% line\n",
    "plt.plot([0, 1], [0, 1], 'k--')\n",
    "# plot ROC curve for the different classes\n",
    "for idx, className in enumerate(current_df['label'].unique()):\n",
    "\tfpr, tpr, thresholds = roc_curve(Y_test == className, Y_scores[:,idx])\n",
    "\tseriesName = \"ROC for \" + str(className)\n",
    "\t# Plot the FPR and TPR achieved by our model\n",
    "\tplt.plot(fpr, tpr, label=seriesName)\n",
    "#Add a legend\n",
    "plt.legend()\n",
    "\n",
    "#Compute the AUC\n",
    "auc = roc_auc_score(Y_test,Y_scores, multi_class='ovr')\n",
    "print('AUC', auc)"
   ]
  }
 ],
 "metadata": {
  "kernelspec": {
   "display_name": "Python 3",
   "language": "python",
   "name": "python3"
  },
  "language_info": {
   "codemirror_mode": {
    "name": "ipython",
    "version": 3
   },
   "file_extension": ".py",
   "mimetype": "text/x-python",
   "name": "python",
   "nbconvert_exporter": "python",
   "pygments_lexer": "ipython3",
   "version": "3.9.6"
  }
 },
 "nbformat": 4,
 "nbformat_minor": 2
}
